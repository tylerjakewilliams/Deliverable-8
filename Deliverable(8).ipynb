{
  "nbformat": 4,
  "nbformat_minor": 0,
  "metadata": {
    "colab": {
      "provenance": [],
      "authorship_tag": "ABX9TyN5Qelf+WG6hArv4X778vg9",
      "include_colab_link": true
    },
    "kernelspec": {
      "name": "python3",
      "display_name": "Python 3"
    },
    "language_info": {
      "name": "python"
    }
  },
  "cells": [
    {
      "cell_type": "markdown",
      "metadata": {
        "id": "view-in-github",
        "colab_type": "text"
      },
      "source": [
        "<a href=\"https://colab.research.google.com/github/tylerjakewilliams/Deliverable-8/blob/main/Deliverable(8).ipynb\" target=\"_parent\"><img src=\"https://colab.research.google.com/assets/colab-badge.svg\" alt=\"Open In Colab\"/></a>"
      ]
    },
    {
      "cell_type": "code",
      "source": [
        "import numpy as np\n",
        "import random"
      ],
      "metadata": {
        "id": "WAO3QwVoV4sn"
      },
      "execution_count": null,
      "outputs": []
    },
    {
      "cell_type": "code",
      "execution_count": null,
      "metadata": {
        "colab": {
          "base_uri": "https://localhost:8080/"
        },
        "id": "MWduwD08VZDi",
        "outputId": "920db0af-e762-4233-9291-f93b99b9e593"
      },
      "outputs": [
        {
          "name": "stdout",
          "output_type": "stream",
          "text": [
            "Enter an integer between 5 and 15: 7\n"
          ]
        }
      ],
      "source": [
        "n = int(input(\"Enter an integer between 5 and 15: \"))"
      ]
    },
    {
      "cell_type": "code",
      "source": [
        "if n > 15 | n < 5:\n",
        "  print ('Please enter a value between 5 and 15')"
      ],
      "metadata": {
        "id": "elJ9I-b5e2UW"
      },
      "execution_count": null,
      "outputs": []
    },
    {
      "cell_type": "code",
      "source": [
        "list1 = []\n",
        "\n",
        "def Method1(n):\n",
        "  for i in range (n):\n",
        "    list1.append(random.randint(0,99))\n",
        "  print (list1)\n",
        "\n",
        "Method1(n)"
      ],
      "metadata": {
        "colab": {
          "base_uri": "https://localhost:8080/"
        },
        "id": "Jfyq3PvKWRsm",
        "outputId": "9363e142-9be7-46ee-9d87-3975a772ace7"
      },
      "execution_count": null,
      "outputs": [
        {
          "output_type": "stream",
          "name": "stdout",
          "text": [
            "[17, 6, 70, 34, 2, 92, 10]\n"
          ]
        }
      ]
    },
    {
      "cell_type": "code",
      "source": [
        "\n",
        "def Method2(lst):\n",
        "  \n",
        "  return sum(lst)\n"
      ],
      "metadata": {
        "id": "Sr4PuLVVsImJ"
      },
      "execution_count": null,
      "outputs": []
    },
    {
      "cell_type": "code",
      "source": [
        "Method2(list1)"
      ],
      "metadata": {
        "colab": {
          "base_uri": "https://localhost:8080/"
        },
        "id": "wTROdq5vuGCt",
        "outputId": "999fecf4-f9b1-4bc4-b6b2-1805d9a42d90"
      },
      "execution_count": null,
      "outputs": [
        {
          "output_type": "execute_result",
          "data": {
            "text/plain": [
              "231"
            ]
          },
          "metadata": {},
          "execution_count": 25
        }
      ]
    }
  ]
}